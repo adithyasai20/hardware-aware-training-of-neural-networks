{
 "cells": [
  {
   "cell_type": "code",
   "execution_count": 25,
   "metadata": {},
   "outputs": [],
   "source": [
    "import torch\n",
    "import matplotlib.pyplot as plt\n",
    "from matplotlib.animation import FuncAnimation\n",
    "import numpy as np\n",
    "import pickle\n",
    "import pandas as pd\n",
    "\n",
    "from optimizers import DiscreteStateOptimizer\n"
   ]
  },
  {
   "cell_type": "code",
   "execution_count": 26,
   "metadata": {},
   "outputs": [],
   "source": [
    "device = torch.device(\"cuda\")"
   ]
  },
  {
   "cell_type": "code",
   "execution_count": 27,
   "metadata": {},
   "outputs": [],
   "source": [
    "\n",
    "\n",
    "def load_data(file_path, column, rows=None):\n",
    "    \"\"\"Generic function to load data from an Excel file.\"\"\"\n",
    "    df = pd.read_excel(file_path)\n",
    "    return list(df[column][rows]) if rows else list(df[column])\n",
    "\n",
    "POTENTIATION_DATASETS = {\n",
    "    \"pradeep\": (\"data/data_P_D_pradeep_sachan.xlsx\", \"potentiation (mS)\", range(30)),\n",
    "    \"vivek\": (\"data/new_data_50_pulses.xlsx\", \"Potentiation\", None),\n",
    "    \"himanshu\": (\"data/himanshu_data_128_cycles.xlsx\", \"Conductance\", range(128))\n",
    "}\n",
    "DEPRESSION_DATASETS = {\n",
    "    \"pradeep\": (\"data/data_P_D_pradeep_sachan.xlsx\", \"depression (mS)\", range(30, 60)),\n",
    "    \"vivek\": (\"data/new_data_50_pulses.xlsx\", \"Depression\", None),\n",
    "    \"himanshu\": (\"data/himanshu_data_128_cycles.xlsx\", \"Conductance\", range(128, 256))\n",
    "}\n",
    "# Select potentiation data\n",
    "data_choice = \"vivek\" \n",
    "\n",
    "potentiation_conductances = load_data(*POTENTIATION_DATASETS.get(data_choice, (None, None, None)))\n",
    "depression_conductances = load_data(*DEPRESSION_DATASETS.get(data_choice, (None, None, None)))\n",
    "\n"
   ]
  },
  {
   "cell_type": "code",
   "execution_count": 28,
   "metadata": {},
   "outputs": [
    {
     "name": "stdout",
     "output_type": "stream",
     "text": [
      "[2, 4, 0]\n"
     ]
    }
   ],
   "source": [
    "import torch\n",
    "\n",
    "def map_to_nearest_indices(given_list, reference_list):\n",
    "    given_tensor = torch.tensor(given_list, dtype=torch.float32)\n",
    "    reference_tensor = torch.tensor(reference_list, dtype=torch.float32)\n",
    "    \n",
    "    # Compute absolute differences and find nearest indices\n",
    "    indices = torch.abs(reference_tensor.unsqueeze(0) - given_tensor.unsqueeze(-1)).argmin(dim=-1)\n",
    "    \n",
    "    return indices.tolist()\n",
    "\n",
    "# Example usage\n",
    "given_list = [3.2, 7.8, 1.5]\n",
    "reference_list = [1.0, 2.0, 3.0, 5.0, 8.0]\n",
    "mapping = map_to_nearest_indices(given_list, reference_list)\n",
    "print(mapping)  # Output: Indices in reference_list that are closest to values in given_list\n"
   ]
  },
  {
   "cell_type": "code",
   "execution_count": 29,
   "metadata": {},
   "outputs": [],
   "source": [
    "potentiation_to_depression_mapping = map_to_nearest_indices(potentiation_conductances, depression_conductances)\n",
    "depression_to_potentiation_mapping = map_to_nearest_indices(depression_conductances, potentiation_conductances)\n"
   ]
  },
  {
   "cell_type": "code",
   "execution_count": 31,
   "metadata": {},
   "outputs": [
    {
     "data": {
      "text/plain": [
       "[<matplotlib.lines.Line2D at 0x2392e0d4510>]"
      ]
     },
     "execution_count": 31,
     "metadata": {},
     "output_type": "execute_result"
    },
    {
     "data": {
      "image/png": "[encoded data removed]",
      "text/plain": [
       "<Figure size 640x480 with 1 Axes>"
      ]
     },
     "metadata": {},
     "output_type": "display_data"
    }
   ],
   "source": [
    "plt.plot(potentiation_conductances)\n",
    "plt.plot(depression_conductances)"
   ]
  },
  {
   "cell_type": "code",
   "execution_count": 30,
   "metadata": {},
   "outputs": [
    {
     "data": {
      "text/plain": [
       "[44,\n",
       " 33,\n",
       " 30,\n",
       " 27,\n",
       " 25,\n",
       " 23,\n",
       " 21,\n",
       " 18,\n",
       " 16,\n",
       " 15,\n",
       " 13,\n",
       " 12,\n",
       " 11,\n",
       " 10,\n",
       " 9,\n",
       " 8,\n",
       " 7,\n",
       " 6,\n",
       " 6,\n",
       " 5,\n",
       " 5,\n",
       " 4,\n",
       " 4,\n",
       " 3,\n",
       " 3,\n",
       " 2,\n",
       " 2,\n",
       " 2,\n",
       " 2,\n",
       " 2,\n",
       " 1,\n",
       " 1,\n",
       " 1,\n",
       " 1,\n",
       " 1,\n",
       " 1,\n",
       " 1,\n",
       " 1,\n",
       " 1,\n",
       " 1,\n",
       " 1,\n",
       " 0,\n",
       " 0,\n",
       " 0,\n",
       " 0,\n",
       " 0,\n",
       " 0,\n",
       " 0,\n",
       " 0,\n",
       " 0]"
      ]
     },
     "execution_count": 30,
     "metadata": {},
     "output_type": "execute_result"
    }
   ],
   "source": [
    "potentiation_to_depression_mapping"
   ]
  },
  {
   "cell_type": "code",
   "execution_count": null,
   "metadata": {},
   "outputs": [],
   "source": []
  },
  {
   "cell_type": "code",
   "execution_count": null,
   "metadata": {},
   "outputs": [],
   "source": []
  },
  {
   "cell_type": "code",
   "execution_count": null,
   "metadata": {},
   "outputs": [],
   "source": []
  }
 ],
 "metadata": {
  "kernelspec": {
   "display_name": "venv",
   "language": "python",
   "name": "python3"
  },
  "language_info": {
   "codemirror_mode": {
    "name": "ipython",
    "version": 3
   },
   "file_extension": ".py",
   "mimetype": "text/x-python",
   "name": "python",
   "nbconvert_exporter": "python",
   "pygments_lexer": "ipython3",
   "version": "3.11.9"
  }
 },
 "nbformat": 4,
 "nbformat_minor": 2
}
